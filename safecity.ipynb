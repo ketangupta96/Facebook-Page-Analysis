{
 "cells": [
  {
   "cell_type": "code",
   "execution_count": 63,
   "metadata": {
    "collapsed": true
   },
   "outputs": [],
   "source": [
    "from collections import defaultdict\n",
    "import numpy as np\n",
    "import json\n",
    "import facebook\n",
    "import unicodedata\n",
    "import requests\n",
    "import pandas as pd\n",
    "import dateutil.parser as dateparser\n",
    "import calendar\n",
    "from datetime import datetime, timedelta"
   ]
  },
  {
   "cell_type": "code",
   "execution_count": 174,
   "metadata": {
    "collapsed": true
   },
   "outputs": [],
   "source": [
    "#contains access token\n",
    "access = 'CAACEdEose0cBAP0wZAyZBE1mEenNHD9T7jurZAczzMYIFjwbv9wYnZCGimUW4CGkKMXMyXm9X8bs12c0q9kSujWe50AsMeU0vu7sOP1Wb0lZAEUP0JyhfXgCXqU4S2DeuGm1rQxXWboZByKZBbLuLPLq2vPgA3ZCAT9Hn5ImM7KiZCuNZChjIjx8C6YVbfRlZA3Nwc35fw3nP2sqAZDZD'"
   ]
  },
  {
   "cell_type": "code",
   "execution_count": 175,
   "metadata": {
    "collapsed": true
   },
   "outputs": [],
   "source": [
    "graph = facebook.GraphAPI(access)"
   ]
  },
  {
   "cell_type": "code",
   "execution_count": 6,
   "metadata": {
    "collapsed": false
   },
   "outputs": [],
   "source": [
    "#appends the post IDs to a list\n",
    "post_ids = []\n",
    "def get_post_ids(post):\n",
    "    post_ids.append(post['id'])"
   ]
  },
  {
   "cell_type": "code",
   "execution_count": 7,
   "metadata": {
    "collapsed": false
   },
   "outputs": [],
   "source": [
    "#obtain the most recent 25 facebook posts\n",
    "posts = graph.get_connections('me', 'posts', **{'fields': 'id'})"
   ]
  },
  {
   "cell_type": "code",
   "execution_count": 8,
   "metadata": {
    "collapsed": false
   },
   "outputs": [],
   "source": [
    "#run a while loop 20 times to obtain the the most recent 500 posts\n",
    "i = 0\n",
    "while i < 20:\n",
    "    [get_post_ids(post) for post in posts['data']]\n",
    "    posts = requests.get(posts['paging']['next']).json()\n",
    "    i += 1"
   ]
  },
  {
   "cell_type": "code",
   "execution_count": 9,
   "metadata": {
    "collapsed": false
   },
   "outputs": [
    {
     "name": "stdout",
     "output_type": "stream",
     "text": [
      "500\n"
     ]
    }
   ],
   "source": [
    "print len(post_ids)"
   ]
  },
  {
   "cell_type": "code",
   "execution_count": 10,
   "metadata": {
    "collapsed": false
   },
   "outputs": [
    {
     "name": "stdout",
     "output_type": "stream",
     "text": [
      "{u'created_time': u'2015-11-25T05:30:04+0000', u'id': u'127466294080089_508889732604408'}\n"
     ]
    }
   ],
   "source": [
    "#obtain the date of the 500th recent post\n",
    "print posts['data'][-1]"
   ]
  },
  {
   "cell_type": "code",
   "execution_count": 11,
   "metadata": {
    "collapsed": false
   },
   "outputs": [],
   "source": [
    "#obtain a list containing the names and IDs of all people who liked the most recent 500 posts\n",
    "likers = []\n",
    "for ID in post_ids:\n",
    "    likes = graph.get_connections(ID, 'likes')\n",
    "    for dic in likes['data']:\n",
    "        likers.append((dic['id'], dic['name']))"
   ]
  },
  {
   "cell_type": "code",
   "execution_count": 12,
   "metadata": {
    "collapsed": false,
    "scrolled": true
   },
   "outputs": [
    {
     "name": "stdout",
     "output_type": "stream",
     "text": [
      "1561\n"
     ]
    }
   ],
   "source": [
    "print len(likers)"
   ]
  },
  {
   "cell_type": "code",
   "execution_count": 13,
   "metadata": {
    "collapsed": true
   },
   "outputs": [],
   "source": [
    "#make a dictionary of the list of likers\n",
    "d = defaultdict(int)\n",
    "for i in likers:\n",
    "    d[i]+=1"
   ]
  },
  {
   "cell_type": "code",
   "execution_count": 14,
   "metadata": {
    "collapsed": true
   },
   "outputs": [],
   "source": [
    "#remove people who have liked less than 4 posts out of the most recent 500 posts\n",
    "new_d = defaultdict(int)\n",
    "for item in d:\n",
    "    if d[item]>3:\n",
    "        new_d[item] = d[item]"
   ]
  },
  {
   "cell_type": "code",
   "execution_count": 15,
   "metadata": {
    "collapsed": true
   },
   "outputs": [],
   "source": [
    "#sort likers in descending order\n",
    "sorted_list = sorted(new_d.items(), key = lambda x:x[1])"
   ]
  },
  {
   "cell_type": "code",
   "execution_count": 16,
   "metadata": {
    "collapsed": false
   },
   "outputs": [],
   "source": [
    "#make lists, to be used as columns for dataframe later\n",
    "names = []\n",
    "frequencies = []\n",
    "IDs = []\n",
    "for item in sorted_list:\n",
    "    id_name, frequency = item\n",
    "    ID, name = id_name\n",
    "    names.append(name)\n",
    "    IDs.append(ID)\n",
    "    frequencies.append(frequency)"
   ]
  },
  {
   "cell_type": "code",
   "execution_count": 17,
   "metadata": {
    "collapsed": false
   },
   "outputs": [],
   "source": [
    "#make empty dataframe\n",
    "df = pd.DataFrame()"
   ]
  },
  {
   "cell_type": "code",
   "execution_count": 18,
   "metadata": {
    "collapsed": false
   },
   "outputs": [],
   "source": [
    "#add columns to dataframe\n",
    "df['Name'] = names\n",
    "df['ID'] = IDs\n",
    "df['Number of Posts Liked'] = frequencies\n",
    "df['Link to Profile'] = 'https://www.facebook.com/'+df['ID']"
   ]
  },
  {
   "cell_type": "code",
   "execution_count": 19,
   "metadata": {
    "collapsed": false
   },
   "outputs": [],
   "source": [
    "#re-arrange columns\n",
    "df = df[['Name', 'ID', 'Link to Profile', 'Number of Posts Liked']]"
   ]
  },
  {
   "cell_type": "code",
   "execution_count": 20,
   "metadata": {
    "collapsed": false
   },
   "outputs": [],
   "source": [
    "#export columns as csv\n",
    "df[['Name', 'Link to Profile', 'Number of Posts Liked']].to_csv('/home/ketan/Desktop/Likers_List.csv', encoding = 'utf-8')"
   ]
  },
  {
   "cell_type": "code",
   "execution_count": 21,
   "metadata": {
    "collapsed": false
   },
   "outputs": [],
   "source": [
    "#get number of page likes\n",
    "def number_of_likes(ID):\n",
    "    page = graph.get_object(ID)\n",
    "    try:\n",
    "        result = page['likes']\n",
    "    except KeyError:\n",
    "        result = '-'\n",
    "    return result"
   ]
  },
  {
   "cell_type": "code",
   "execution_count": 22,
   "metadata": {
    "collapsed": true
   },
   "outputs": [],
   "source": [
    "#determines if a user likes a page or not\n",
    "def user_likes_page(user_id, page_id):\n",
    "    url = 'https://graph.facebook.com/%d/likes/%d/' % (user_id, page_id)\n",
    "    parameters = {'access_token': access}\n",
    "    r = requests.get(url, params = parameters)\n",
    "    result = json.loads(r.text)\n",
    "    if result['data']:\n",
    "        return True\n",
    "    else:\n",
    "        return False"
   ]
  },
  {
   "cell_type": "code",
   "execution_count": 23,
   "metadata": {
    "collapsed": false
   },
   "outputs": [],
   "source": [
    "#list containing number of Page Likes\n",
    "page_likes_list = []\n",
    "for ID in df['ID']:\n",
    "    page_likes_list.append(number_of_likes(ID))"
   ]
  },
  {
   "cell_type": "code",
   "execution_count": 24,
   "metadata": {
    "collapsed": false
   },
   "outputs": [],
   "source": [
    "likes_safecity = []\n",
    "for ID in df['ID']:\n",
    "    if user_likes_page(int(ID), 127466294080089):\n",
    "        likes_safecity.append('Yes')\n",
    "    else:\n",
    "        likes_safecity.append('No')"
   ]
  },
  {
   "cell_type": "code",
   "execution_count": 37,
   "metadata": {
    "collapsed": false
   },
   "outputs": [],
   "source": [
    "for i in names:\n",
    "    if i == 'Safecity':\n",
    "        safecity_index = names.index(i)\n",
    "likes_safecity[safecity_index] = '-'"
   ]
  },
  {
   "cell_type": "code",
   "execution_count": 38,
   "metadata": {
    "collapsed": false
   },
   "outputs": [],
   "source": [
    "df['Number of Page Likes'] = page_likes_list"
   ]
  },
  {
   "cell_type": "code",
   "execution_count": 42,
   "metadata": {
    "collapsed": true
   },
   "outputs": [],
   "source": [
    "df['Likes Safecity'] = likes_safecity"
   ]
  },
  {
   "cell_type": "code",
   "execution_count": 45,
   "metadata": {
    "collapsed": false
   },
   "outputs": [],
   "source": [
    "df = df.sort_values(['Number of Posts Liked'], ascending = False)"
   ]
  },
  {
   "cell_type": "code",
   "execution_count": 46,
   "metadata": {
    "collapsed": false
   },
   "outputs": [],
   "source": [
    "df[['Name', 'Link to Profile', 'Number of Posts Liked', 'Number of Page Likes', 'Likes Safecity']].to_csv('/home/ketan/Desktop/List of Likers.csv', encoding = 'utf-8')"
   ]
  },
  {
   "cell_type": "markdown",
   "metadata": {},
   "source": [
    "## Assignment 2: Post Analysis"
   ]
  },
  {
   "cell_type": "code",
   "execution_count": 48,
   "metadata": {
    "collapsed": true
   },
   "outputs": [],
   "source": [
    "#adding 500 more post IDs to the list post_ids\n",
    "i = 0\n",
    "while i < 40:\n",
    "    if i >= 20:\n",
    "        [get_post_ids(post) for post in posts['data']]\n",
    "        posts = requests.get(posts['paging']['next']).json()\n",
    "        i += 1\n",
    "    else:\n",
    "        i += 1 "
   ]
  },
  {
   "cell_type": "code",
   "execution_count": 68,
   "metadata": {
    "collapsed": false
   },
   "outputs": [
    {
     "data": {
      "text/plain": [
       "1000"
      ]
     },
     "execution_count": 68,
     "metadata": {},
     "output_type": "execute_result"
    }
   ],
   "source": [
    "len(post_ids)"
   ]
  },
  {
   "cell_type": "code",
   "execution_count": 49,
   "metadata": {
    "collapsed": false
   },
   "outputs": [],
   "source": [
    "#get number of likes on a post\n",
    "def get_post_likes(post_id):\n",
    "    count_likes = 0\n",
    "    url = 'https://graph.facebook.com/%s/likes/' % post_id\n",
    "    parameters = {'access_token': access}\n",
    "    r = requests.get(url, params = parameters)\n",
    "    final_result = []\n",
    "    result = json.loads(r.text)\n",
    "    while True:\n",
    "        try:\n",
    "            [final_result.append(dic) for dic in result['data']]\n",
    "            result = requests.get(result['paging']['next']).json()\n",
    "        except KeyError:\n",
    "            break\n",
    "    return len(final_result)"
   ]
  },
  {
   "cell_type": "code",
   "execution_count": 50,
   "metadata": {
    "collapsed": true
   },
   "outputs": [],
   "source": [
    "#get number of people who like both the post, and the page\n",
    "def get_common_likes_generalized(post_id, page_id): #post_id is a string, page_id is an int\n",
    "    count_likes = 0\n",
    "    url = 'https://graph.facebook.com/%s/likes/' % post_id\n",
    "    parameters = {'access_token': access}\n",
    "    r = requests.get(url, params = parameters)\n",
    "    result = json.loads(r.text)\n",
    "    for like in result['data']:\n",
    "        if user_likes_page(int(like['id']), page_id):\n",
    "            count_likes+=1\n",
    "    return count_likes"
   ]
  },
  {
   "cell_type": "code",
   "execution_count": 51,
   "metadata": {
    "collapsed": true
   },
   "outputs": [],
   "source": [
    "#get number of people who like both the post, and safecity's facebook page\n",
    "def get_common_likes_safecity(post_id):\n",
    "    count_likes = 0\n",
    "    url = 'https://graph.facebook.com/%s/likes/' % post_id\n",
    "    parameters = {'access_token': access}\n",
    "    r = requests.get(url, params = parameters)\n",
    "    result = json.loads(r.text)\n",
    "    for like in result['data']:\n",
    "        if user_likes_page(int(like['id']), 127466294080089):\n",
    "            count_likes+=1\n",
    "    return count_likes"
   ]
  },
  {
   "cell_type": "code",
   "execution_count": 52,
   "metadata": {
    "collapsed": true
   },
   "outputs": [],
   "source": [
    "#get the created time for a post\n",
    "def get_post_date(post_id):\n",
    "    url = 'https://graph.facebook.com/%s' % post_id\n",
    "    parameters = {'access_token': access}\n",
    "    r = requests.get(url, params = parameters)\n",
    "    result = json.loads(r.text)\n",
    "    return result['created_time']"
   ]
  },
  {
   "cell_type": "code",
   "execution_count": 53,
   "metadata": {
    "collapsed": true
   },
   "outputs": [],
   "source": [
    "#take facebook created_time, and convert it to Python datetime format, in the local time zone\n",
    "def facebook_to_local(time):\n",
    "    x = dateparser.parse(time)\n",
    "    timestamp = calendar.timegm(x.timetuple())\n",
    "    local_dt = datetime.fromtimestamp(timestamp)\n",
    "    assert x.resolution >= timedelta(microseconds=1)\n",
    "    return local_dt.replace(microsecond=x.microsecond)"
   ]
  },
  {
   "cell_type": "markdown",
   "metadata": {},
   "source": [
    "#### NOT GETTING THE CORRECT NUMBER OF SHARES FOR SOME POSTS DUE TO A BUG IN FACEBOOK"
   ]
  },
  {
   "cell_type": "code",
   "execution_count": 54,
   "metadata": {
    "collapsed": true
   },
   "outputs": [],
   "source": [
    "#get number of shares of a post\n",
    "def num_shares(post):\n",
    "    url = 'https://graph.facebook.com/%s' % post\n",
    "    parameters = {'access_token': access}\n",
    "    r = requests.get(url, params = parameters)\n",
    "    result = json.loads(r.text)\n",
    "    try:\n",
    "        x = result['shares']['count']\n",
    "    except KeyError:\n",
    "        x = 0\n",
    "    return x"
   ]
  },
  {
   "cell_type": "code",
   "execution_count": 55,
   "metadata": {
    "collapsed": true
   },
   "outputs": [],
   "source": [
    "#get status type\n",
    "def get_status_type(post_id):\n",
    "    url = 'https://graph.facebook.com/%s' % post_id\n",
    "    parameters = {'access_token': access}\n",
    "    r = requests.get(url, params = parameters)\n",
    "    result = json.loads(r.text)\n",
    "    return result['status_type']"
   ]
  },
  {
   "cell_type": "code",
   "execution_count": 56,
   "metadata": {
    "collapsed": true
   },
   "outputs": [],
   "source": [
    "#get the type of story for a post\n",
    "def post_story(post):\n",
    "    url = 'https://graph.facebook.com/%s/' %post\n",
    "    parameters = {'access_token': access}\n",
    "    r = requests.get(url, params = parameters)\n",
    "    result = json.loads(r.text)\n",
    "    try:\n",
    "        ans = result['story']\n",
    "    except KeyError:\n",
    "        ans = '-'\n",
    "    return ans"
   ]
  },
  {
   "cell_type": "code",
   "execution_count": 57,
   "metadata": {
    "collapsed": true
   },
   "outputs": [],
   "source": [
    "#get the total number of people the Page post was served to\n",
    "def get_post_reach(post_id):\n",
    "    url = 'https://graph.facebook.com/%s/insights' % post_id\n",
    "    parameters = {'access_token': access}\n",
    "    r = requests.get(url, params = parameters)\n",
    "    result = json.loads(r.text)\n",
    "    for dic in result['data']:\n",
    "        if dic['name'] == 'post_impressions_unique':\n",
    "            return dic['values'][0]['value']"
   ]
  },
  {
   "cell_type": "code",
   "execution_count": 58,
   "metadata": {
    "collapsed": true
   },
   "outputs": [],
   "source": [
    "#get the number of impressions of the Page post\n",
    "def get_post_impressions(post_id):\n",
    "    url = 'https://graph.facebook.com/%s/insights' % post_id\n",
    "    parameters = {'access_token': access}\n",
    "    r = requests.get(url, params = parameters)\n",
    "    result = json.loads(r.text)\n",
    "    for dic in result['data']:\n",
    "        if dic['name'] == 'post_impressions':\n",
    "            return dic['values'][0]['value']"
   ]
  },
  {
   "cell_type": "code",
   "execution_count": 59,
   "metadata": {
    "collapsed": true
   },
   "outputs": [],
   "source": [
    "#get the number of people who saw the Page post in a story from a friend\n",
    "def get_post_viral_reach(post_id):\n",
    "    url = 'https://graph.facebook.com/%s/insights' % post_id\n",
    "    parameters = {'access_token': access}\n",
    "    r = requests.get(url, params = parameters)\n",
    "    result = json.loads(r.text)\n",
    "    for dic in result['data']:\n",
    "        if dic['name'] == 'post_impressions_viral_unique':\n",
    "            return dic['values'][0]['value']"
   ]
  },
  {
   "cell_type": "code",
   "execution_count": 60,
   "metadata": {
    "collapsed": true
   },
   "outputs": [],
   "source": [
    "#get the number of impressions of the Page post in a story generated by a friend\n",
    "def get_post_viral_impressions(post_id):\n",
    "    url = 'https://graph.facebook.com/%s/insights' % post_id\n",
    "    parameters = {'access_token': access}\n",
    "    r = requests.get(url, params = parameters)\n",
    "    result = json.loads(r.text)\n",
    "    for dic in result['data']:\n",
    "        if dic['name'] == 'post_impressions_viral':\n",
    "            return dic['values'][0]['value']"
   ]
  },
  {
   "cell_type": "code",
   "execution_count": 136,
   "metadata": {
    "collapsed": true
   },
   "outputs": [],
   "source": [
    "#get post message\n",
    "def get_post_message(ID):\n",
    "    url = 'https://graph.facebook.com/%s' % ID\n",
    "    parameters = {'access_token': access}\n",
    "    r = requests.get(url, params = parameters)\n",
    "    result = json.loads(r.text)\n",
    "    try:\n",
    "        x = result['message']\n",
    "    except KeyError:\n",
    "        x = '-'\n",
    "    return x"
   ]
  },
  {
   "cell_type": "code",
   "execution_count": 147,
   "metadata": {
    "collapsed": true
   },
   "outputs": [],
   "source": [
    "#determines if a Facebook post had been posted via twitter\n",
    "def via_twitter(ID):\n",
    "    url = 'https://graph.facebook.com/%s' % ID\n",
    "    parameters = {'access_token': access}\n",
    "    r = requests.get(url, params = parameters)\n",
    "    result = json.loads(r.text)\n",
    "    try:\n",
    "        if result['application']['namespace'] == 'twitter':\n",
    "            x = 'Yes'\n",
    "        else:\n",
    "            x = 'No'\n",
    "    except KeyError:\n",
    "        x = 'No'\n",
    "    return x"
   ]
  },
  {
   "cell_type": "code",
   "execution_count": 165,
   "metadata": {
    "collapsed": true
   },
   "outputs": [],
   "source": [
    "#get the text message of a post\n",
    "def get_message(ID):\n",
    "    url = 'https://graph.facebook.com/%s' % ID\n",
    "    parameters = {'access_token': access}\n",
    "    r = requests.get(url, params = parameters)\n",
    "    result = json.loads(r.text)\n",
    "    try:\n",
    "        x = result['message']\n",
    "    except KeyError:\n",
    "        x = '-'\n",
    "    return ''.join(x.splitlines())"
   ]
  },
  {
   "cell_type": "code",
   "execution_count": 169,
   "metadata": {
    "collapsed": true
   },
   "outputs": [],
   "source": [
    "#get the title of the Shared Link\n",
    "def post_name(post):\n",
    "    url = 'https://graph.facebook.com/%s' % post\n",
    "    parameters = {'access_token': access}\n",
    "    r = requests.get(url, params = parameters)\n",
    "    result = json.loads(r.text)\n",
    "    try:\n",
    "        x = result['name']\n",
    "    except KeyError:\n",
    "        x = '-'\n",
    "    return x"
   ]
  },
  {
   "cell_type": "code",
   "execution_count": 61,
   "metadata": {
    "collapsed": true
   },
   "outputs": [],
   "source": [
    "df2 = pd.DataFrame()"
   ]
  },
  {
   "cell_type": "code",
   "execution_count": 66,
   "metadata": {
    "collapsed": false
   },
   "outputs": [],
   "source": [
    "df2['Post ID'] = post_ids\n",
    "df2['Link to Post'] = 'https://facebook.com/'+df2['Post ID']\n",
    "df2['Total Number of Post Likes'] = df2['Post ID'].apply(get_post_likes)"
   ]
  },
  {
   "cell_type": "code",
   "execution_count": 67,
   "metadata": {
    "collapsed": false
   },
   "outputs": [],
   "source": [
    "df2['Number of Likes by Followers'] = df2['Post ID'].apply(get_common_likes_safecity)"
   ]
  },
  {
   "cell_type": "code",
   "execution_count": 70,
   "metadata": {
    "collapsed": true
   },
   "outputs": [],
   "source": [
    "df2['Number of Likes by Non-Followers'] = df2['Total Number of Post Likes'] - df2['Number of Likes by Followers']"
   ]
  },
  {
   "cell_type": "code",
   "execution_count": 71,
   "metadata": {
    "collapsed": false
   },
   "outputs": [],
   "source": [
    "dt = []\n",
    "for ID in df2['Post ID']:\n",
    "    dt.append(facebook_to_local(get_post_date(ID)))"
   ]
  },
  {
   "cell_type": "code",
   "execution_count": 72,
   "metadata": {
    "collapsed": true
   },
   "outputs": [],
   "source": [
    "dates = []\n",
    "times = []\n",
    "for i in dt:\n",
    "    dates.append(i.date())\n",
    "    times.append(str(i.time())[:5])"
   ]
  },
  {
   "cell_type": "code",
   "execution_count": 73,
   "metadata": {
    "collapsed": true
   },
   "outputs": [],
   "source": [
    "df2['Date Created'] = dates\n",
    "df2['Time Created'] = times"
   ]
  },
  {
   "cell_type": "markdown",
   "metadata": {},
   "source": [
    "#### NOT GETTING THE CORRECT NUMBER OF SHARES FOR SOME POSTS"
   ]
  },
  {
   "cell_type": "code",
   "execution_count": 106,
   "metadata": {
    "collapsed": false
   },
   "outputs": [],
   "source": [
    "df2['Number of Shares'] = df2['Post ID'].apply(num_shares)  #not accurate"
   ]
  },
  {
   "cell_type": "code",
   "execution_count": 76,
   "metadata": {
    "collapsed": true
   },
   "outputs": [],
   "source": [
    "df2['Post Type'] = df2['Post ID'].apply(get_status_type)"
   ]
  },
  {
   "cell_type": "code",
   "execution_count": 80,
   "metadata": {
    "collapsed": false
   },
   "outputs": [],
   "source": [
    "df2['Post Story'] = df2['Post ID'].apply(post_story)"
   ]
  },
  {
   "cell_type": "code",
   "execution_count": 81,
   "metadata": {
    "collapsed": true
   },
   "outputs": [],
   "source": [
    "df2['Post Reach'] = df2['Post ID'].apply(get_post_reach)"
   ]
  },
  {
   "cell_type": "code",
   "execution_count": 85,
   "metadata": {
    "collapsed": true
   },
   "outputs": [],
   "source": [
    "df2['Post Impressions'] = df2['Post ID'].apply(get_post_impressions)"
   ]
  },
  {
   "cell_type": "code",
   "execution_count": 86,
   "metadata": {
    "collapsed": false
   },
   "outputs": [],
   "source": [
    "df2['Post Viral Reach'] = df2['Post ID'].apply(get_post_viral_reach)"
   ]
  },
  {
   "cell_type": "code",
   "execution_count": 87,
   "metadata": {
    "collapsed": true
   },
   "outputs": [],
   "source": [
    "df2['Post Viral Impressions'] = df2['Post ID'].apply(get_post_viral_impressions)"
   ]
  },
  {
   "cell_type": "code",
   "execution_count": 140,
   "metadata": {
    "collapsed": true
   },
   "outputs": [],
   "source": [
    "df2['Post Message'] = df2['Post ID'].apply(get_post_message)"
   ]
  },
  {
   "cell_type": "code",
   "execution_count": 155,
   "metadata": {
    "collapsed": false
   },
   "outputs": [
    {
     "name": "stderr",
     "output_type": "stream",
     "text": [
      "/home/ketan/anaconda2/lib/python2.7/site-packages/ipykernel/__main__.py:1: SettingWithCopyWarning: \n",
      "A value is trying to be set on a copy of a slice from a DataFrame.\n",
      "Try using .loc[row_indexer,col_indexer] = value instead\n",
      "\n",
      "See the caveats in the documentation: http://pandas.pydata.org/pandas-docs/stable/indexing.html#indexing-view-versus-copy\n",
      "  if __name__ == '__main__':\n"
     ]
    }
   ],
   "source": [
    "df2['Posted via Twitter'] = df2['Post ID'].apply(via_twitter)"
   ]
  },
  {
   "cell_type": "code",
   "execution_count": 167,
   "metadata": {
    "collapsed": true
   },
   "outputs": [],
   "source": [
    "df2['Post Message'] = df2['Post ID'].apply(get_message)"
   ]
  },
  {
   "cell_type": "code",
   "execution_count": 176,
   "metadata": {
    "collapsed": true
   },
   "outputs": [],
   "source": [
    "df2['Title'] = df2['Post ID'].apply(post_name)"
   ]
  },
  {
   "cell_type": "code",
   "execution_count": 89,
   "metadata": {
    "collapsed": false
   },
   "outputs": [
    {
     "data": {
      "text/plain": [
       "defaultdict(int,\n",
       "            {'added_photos': 36,\n",
       "             'added_video': 1,\n",
       "             'created_event': 4,\n",
       "             'mobile_status_update': 259,\n",
       "             'shared_story': 700})"
      ]
     },
     "execution_count": 89,
     "metadata": {},
     "output_type": "execute_result"
    }
   ],
   "source": [
    "post_type_dic = defaultdict(int)\n",
    "for item in df2['Post Type']:\n",
    "    post_type_dic[str(item)] += 1\n",
    "post_type_dic"
   ]
  },
  {
   "cell_type": "code",
   "execution_count": 108,
   "metadata": {
    "collapsed": false
   },
   "outputs": [
    {
     "data": {
      "text/plain": [
       "78.10000000000001"
      ]
     },
     "execution_count": 108,
     "metadata": {},
     "output_type": "execute_result"
    }
   ],
   "source": [
    "count = 0\n",
    "for n, m in zip(df2['Number of Likes by Followers'], df2['Number of Likes by Non-Followers']):\n",
    "    if m>=n:\n",
    "        count += 1\n",
    "count/1000. * 100"
   ]
  },
  {
   "cell_type": "code",
   "execution_count": 177,
   "metadata": {
    "collapsed": true
   },
   "outputs": [],
   "source": [
    "df2.to_csv('/home/ketan/Desktop/Based on Posts.csv', encoding = 'utf-8')"
   ]
  },
  {
   "cell_type": "code",
   "execution_count": 95,
   "metadata": {
    "collapsed": true
   },
   "outputs": [],
   "source": [
    "DF = pd.read_csv('/home/ketan/Desktop/1000 Posts.csv')"
   ]
  },
  {
   "cell_type": "code",
   "execution_count": 161,
   "metadata": {
    "collapsed": false
   },
   "outputs": [],
   "source": [
    "twitter_count = 0\n",
    "twitter_ids = []\n",
    "for ID in df2['Post ID']:\n",
    "    index = df2['Post ID'].tolist().index(ID)\n",
    "    url = 'https://graph.facebook.com/%s' % ID\n",
    "    parameters = {'access_token': access}\n",
    "    r = requests.get(url, params = parameters)\n",
    "    result = json.loads(r.text)\n",
    "    try:\n",
    "        x = result['application']['namespace'] \n",
    "    except KeyError:\n",
    "        x = 'no'\n",
    "    if x == 'twitter':\n",
    "        twitter_ids.append(df2['Post ID'].tolist()[index])"
   ]
  }
 ],
 "metadata": {
  "kernelspec": {
   "display_name": "Python 2",
   "language": "python",
   "name": "python2"
  },
  "language_info": {
   "codemirror_mode": {
    "name": "ipython",
    "version": 2
   },
   "file_extension": ".py",
   "mimetype": "text/x-python",
   "name": "python",
   "nbconvert_exporter": "python",
   "pygments_lexer": "ipython2",
   "version": "2.7.11"
  }
 },
 "nbformat": 4,
 "nbformat_minor": 0
}
