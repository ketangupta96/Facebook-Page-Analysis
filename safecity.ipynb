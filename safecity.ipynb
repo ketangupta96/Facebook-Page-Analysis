{
 "cells": [
  {
   "cell_type": "code",
   "execution_count": 63,
   "metadata": {
    "collapsed": true
   },
   "outputs": [],
   "source": [
    "from collections import defaultdict\n",
    "import numpy as np\n",
    "import json\n",
    "import facebook\n",
    "import unicodedata\n",
    "import requests\n",
    "import pandas as pd\n",
    "import dateutil.parser as dateparser\n",
    "import calendar\n",
    "from datetime import datetime, timedelta"
   ]
  },
  {
   "cell_type": "code",
   "execution_count": 153,
   "metadata": {
    "collapsed": true
   },
   "outputs": [],
   "source": [
    "#contains access token\n",
    "access = 'CAACEdEose0cBAJz5wUQ5Dgxdb3qp3fUN4pDqlmATZB79T020m0KX4ZBRaUYXFFSY23lNoK7HXFS3U9Ww4vItm2iNhg9t7tKs4VySnyNuIFvCcl1MIM5i5z6xtPqxEbiSDbjAdDkoEECudvExmj94U5tH5PixpQ6PcVvci34QiTfkWZBenmZA80arpCq2BdEZD'"
   ]
  },
  {
   "cell_type": "code",
   "execution_count": 154,
   "metadata": {
    "collapsed": true
   },
   "outputs": [],
   "source": [
    "graph = facebook.GraphAPI(access)"
   ]
  },
  {
   "cell_type": "code",
   "execution_count": 6,
   "metadata": {
    "collapsed": false
   },
   "outputs": [],
   "source": [
    "#appends the post IDs to a list\n",
    "post_ids = []\n",
    "def get_post_ids(post):\n",
    "    post_ids.append(post['id'])"
   ]
  },
  {
   "cell_type": "code",
   "execution_count": 7,
   "metadata": {
    "collapsed": false
   },
   "outputs": [],
   "source": [
    "#obtain the most recent 25 facebook posts\n",
    "posts = graph.get_connections('me', 'posts', **{'fields': 'id'})"
   ]
  },
  {
   "cell_type": "code",
   "execution_count": 8,
   "metadata": {
    "collapsed": false
   },
   "outputs": [],
   "source": [
    "#run a while loop 20 times to obtain the the most recent 500 posts\n",
    "i = 0\n",
    "while i < 20:\n",
    "    [get_post_ids(post) for post in posts['data']]\n",
    "    posts = requests.get(posts['paging']['next']).json()\n",
    "    i += 1"
   ]
  },
  {
   "cell_type": "code",
   "execution_count": 9,
   "metadata": {
    "collapsed": false
   },
   "outputs": [
    {
     "name": "stdout",
     "output_type": "stream",
     "text": [
      "500\n"
     ]
    }
   ],
   "source": [
    "print len(post_ids)"
   ]
  },
  {
   "cell_type": "code",
   "execution_count": 10,
   "metadata": {
    "collapsed": false
   },
   "outputs": [
    {
     "name": "stdout",
     "output_type": "stream",
     "text": [
      "{u'created_time': u'2015-11-25T05:30:04+0000', u'id': u'127466294080089_508889732604408'}\n"
     ]
    }
   ],
   "source": [
    "#obtain the date of the 500th recent post\n",
    "print posts['data'][-1]"
   ]
  },
  {
   "cell_type": "code",
   "execution_count": 11,
   "metadata": {
    "collapsed": false
   },
   "outputs": [],
   "source": [
    "#obtain a list containing the names and IDs of all people who liked the most recent 500 posts\n",
    "likers = []\n",
    "for ID in post_ids:\n",
    "    likes = graph.get_connections(ID, 'likes')\n",
    "    for dic in likes['data']:\n",
    "        likers.append((dic['id'], dic['name']))"
   ]
  },
  {
   "cell_type": "code",
   "execution_count": 12,
   "metadata": {
    "collapsed": false,
    "scrolled": true
   },
   "outputs": [
    {
     "name": "stdout",
     "output_type": "stream",
     "text": [
      "1561\n"
     ]
    }
   ],
   "source": [
    "print len(likers)"
   ]
  },
  {
   "cell_type": "code",
   "execution_count": 13,
   "metadata": {
    "collapsed": true
   },
   "outputs": [],
   "source": [
    "#make a dictionary of the list of likers\n",
    "d = defaultdict(int)\n",
    "for i in likers:\n",
    "    d[i]+=1"
   ]
  },
  {
   "cell_type": "code",
   "execution_count": 14,
   "metadata": {
    "collapsed": true
   },
   "outputs": [],
   "source": [
    "#remove people who have liked less than 4 posts out of the most recent 500 posts\n",
    "new_d = defaultdict(int)\n",
    "for item in d:\n",
    "    if d[item]>3:\n",
    "        new_d[item] = d[item]"
   ]
  },
  {
   "cell_type": "code",
   "execution_count": 15,
   "metadata": {
    "collapsed": true
   },
   "outputs": [],
   "source": [
    "#sort likers in descending order\n",
    "sorted_list = sorted(new_d.items(), key = lambda x:x[1])"
   ]
  },
  {
   "cell_type": "code",
   "execution_count": 16,
   "metadata": {
    "collapsed": false
   },
   "outputs": [],
   "source": [
    "#make lists, to be used as columns for dataframe later\n",
    "names = []\n",
    "frequencies = []\n",
    "IDs = []\n",
    "for item in sorted_list:\n",
    "    id_name, frequency = item\n",
    "    ID, name = id_name\n",
    "    names.append(name)\n",
    "    IDs.append(ID)\n",
    "    frequencies.append(frequency)"
   ]
  },
  {
   "cell_type": "code",
   "execution_count": 17,
   "metadata": {
    "collapsed": false
   },
   "outputs": [],
   "source": [
    "#make empty dataframe\n",
    "df = pd.DataFrame()"
   ]
  },
  {
   "cell_type": "code",
   "execution_count": 18,
   "metadata": {
    "collapsed": false
   },
   "outputs": [],
   "source": [
    "#add columns to dataframe\n",
    "df['Name'] = names\n",
    "df['ID'] = IDs\n",
    "df['Number of Posts Liked'] = frequencies\n",
    "df['Link to Profile'] = 'https://www.facebook.com/'+df['ID']"
   ]
  },
  {
   "cell_type": "code",
   "execution_count": 19,
   "metadata": {
    "collapsed": false
   },
   "outputs": [],
   "source": [
    "#re-arrange columns\n",
    "df = df[['Name', 'ID', 'Link to Profile', 'Number of Posts Liked']]"
   ]
  },
  {
   "cell_type": "code",
   "execution_count": 20,
   "metadata": {
    "collapsed": false
   },
   "outputs": [],
   "source": [
    "#export columns as csv\n",
    "df[['Name', 'Link to Profile', 'Number of Posts Liked']].to_csv('/home/ketan/Desktop/Likers_List.csv', encoding = 'utf-8')"
   ]
  },
  {
   "cell_type": "code",
   "execution_count": 21,
   "metadata": {
    "collapsed": false
   },
   "outputs": [],
   "source": [
    "#get number of page likes\n",
    "def number_of_likes(ID):\n",
    "    page = graph.get_object(ID)\n",
    "    try:\n",
    "        result = page['likes']\n",
    "    except KeyError:\n",
    "        result = '-'\n",
    "    return result"
   ]
  },
  {
   "cell_type": "code",
   "execution_count": 22,
   "metadata": {
    "collapsed": true
   },
   "outputs": [],
   "source": [
    "#determines if a user likes a page or not\n",
    "def user_likes_page(user_id, page_id):\n",
    "    url = 'https://graph.facebook.com/%d/likes/%d/' % (user_id, page_id)\n",
    "    parameters = {'access_token': access}\n",
    "    r = requests.get(url, params = parameters)\n",
    "    result = json.loads(r.text)\n",
    "    if result['data']:\n",
    "        return True\n",
    "    else:\n",
    "        return False"
   ]
  },
  {
   "cell_type": "code",
   "execution_count": 23,
   "metadata": {
    "collapsed": false
   },
   "outputs": [],
   "source": [
    "#list containing number of Page Likes\n",
    "page_likes_list = []\n",
    "for ID in df['ID']:\n",
    "    page_likes_list.append(number_of_likes(ID))"
   ]
  },
  {
   "cell_type": "code",
   "execution_count": 24,
   "metadata": {
    "collapsed": false
   },
   "outputs": [],
   "source": [
    "likes_safecity = []\n",
    "for ID in df['ID']:\n",
    "    if user_likes_page(int(ID), 127466294080089):\n",
    "        likes_safecity.append('Yes')\n",
    "    else:\n",
    "        likes_safecity.append('No')"
   ]
  },
  {
   "cell_type": "code",
   "execution_count": 37,
   "metadata": {
    "collapsed": false
   },
   "outputs": [],
   "source": [
    "for i in names:\n",
    "    if i == 'Safecity':\n",
    "        safecity_index = names.index(i)\n",
    "likes_safecity[safecity_index] = '-'"
   ]
  },
  {
   "cell_type": "code",
   "execution_count": 38,
   "metadata": {
    "collapsed": false
   },
   "outputs": [],
   "source": [
    "df['Number of Page Likes'] = page_likes_list"
   ]
  },
  {
   "cell_type": "code",
   "execution_count": 42,
   "metadata": {
    "collapsed": true
   },
   "outputs": [],
   "source": [
    "df['Likes Safecity'] = likes_safecity"
   ]
  },
  {
   "cell_type": "code",
   "execution_count": 45,
   "metadata": {
    "collapsed": false
   },
   "outputs": [],
   "source": [
    "df = df.sort_values(['Number of Posts Liked'], ascending = False)"
   ]
  },
  {
   "cell_type": "code",
   "execution_count": 46,
   "metadata": {
    "collapsed": false
   },
   "outputs": [],
   "source": [
    "df[['Name', 'Link to Profile', 'Number of Posts Liked', 'Number of Page Likes', 'Likes Safecity']].to_csv('/home/ketan/Desktop/List of Likers.csv', encoding = 'utf-8')"
   ]
  },
  {
   "cell_type": "markdown",
   "metadata": {},
   "source": [
    "## Assignment 2: Post Analysis"
   ]
  },
  {
   "cell_type": "code",
   "execution_count": 48,
   "metadata": {
    "collapsed": true
   },
   "outputs": [],
   "source": [
    "#adding 500 more post IDs to the list post_ids\n",
    "i = 0\n",
    "while i < 40:\n",
    "    if i >= 20:\n",
    "        [get_post_ids(post) for post in posts['data']]\n",
    "        posts = requests.get(posts['paging']['next']).json()\n",
    "        i += 1\n",
    "    else:\n",
    "        i += 1 "
   ]
  },
  {
   "cell_type": "code",
   "execution_count": 68,
   "metadata": {
    "collapsed": false
   },
   "outputs": [
    {
     "data": {
      "text/plain": [
       "1000"
      ]
     },
     "execution_count": 68,
     "metadata": {},
     "output_type": "execute_result"
    }
   ],
   "source": [
    "len(post_ids)"
   ]
  },
  {
   "cell_type": "code",
   "execution_count": 49,
   "metadata": {
    "collapsed": false
   },
   "outputs": [],
   "source": [
    "#get number of likes on a post\n",
    "def get_post_likes(post_id):\n",
    "    count_likes = 0\n",
    "    url = 'https://graph.facebook.com/%s/likes/' % post_id\n",
    "    parameters = {'access_token': access}\n",
    "    r = requests.get(url, params = parameters)\n",
    "    final_result = []\n",
    "    result = json.loads(r.text)\n",
    "    while True:\n",
    "        try:\n",
    "            [final_result.append(dic) for dic in result['data']]\n",
    "            result = requests.get(result['paging']['next']).json()\n",
    "        except KeyError:\n",
    "            break\n",
    "    return len(final_result)"
   ]
  },
  {
   "cell_type": "code",
   "execution_count": 50,
   "metadata": {
    "collapsed": true
   },
   "outputs": [],
   "source": [
    "#get number of people who like both the post, and the page\n",
    "def get_common_likes_generalized(post_id, page_id): #post_id is a string, page_id is an int\n",
    "    count_likes = 0\n",
    "    url = 'https://graph.facebook.com/%s/likes/' % post_id\n",
    "    parameters = {'access_token': access}\n",
    "    r = requests.get(url, params = parameters)\n",
    "    result = json.loads(r.text)\n",
    "    for like in result['data']:\n",
    "        if user_likes_page(int(like['id']), page_id):\n",
    "            count_likes+=1\n",
    "    return count_likes"
   ]
  },
  {
   "cell_type": "code",
   "execution_count": 51,
   "metadata": {
    "collapsed": true
   },
   "outputs": [],
   "source": [
    "#get number of people who like both the post, and safecity's facebook page\n",
    "def get_common_likes_safecity(post_id):\n",
    "    count_likes = 0\n",
    "    url = 'https://graph.facebook.com/%s/likes/' % post_id\n",
    "    parameters = {'access_token': access}\n",
    "    r = requests.get(url, params = parameters)\n",
    "    result = json.loads(r.text)\n",
    "    for like in result['data']:\n",
    "        if user_likes_page(int(like['id']), 127466294080089):\n",
    "            count_likes+=1\n",
    "    return count_likes"
   ]
  },
  {
   "cell_type": "code",
   "execution_count": 52,
   "metadata": {
    "collapsed": true
   },
   "outputs": [],
   "source": [
    "#get the created time for a post\n",
    "def get_post_date(post_id):\n",
    "    url = 'https://graph.facebook.com/%s' % post_id\n",
    "    parameters = {'access_token': access}\n",
    "    r = requests.get(url, params = parameters)\n",
    "    result = json.loads(r.text)\n",
    "    return result['created_time']"
   ]
  },
  {
   "cell_type": "code",
   "execution_count": 53,
   "metadata": {
    "collapsed": true
   },
   "outputs": [],
   "source": [
    "#take facebook created_time, and convert it to Python datetime format, in the local time zone\n",
    "def facebook_to_local(time):\n",
    "    x = dateparser.parse(time)\n",
    "    timestamp = calendar.timegm(x.timetuple())\n",
    "    local_dt = datetime.fromtimestamp(timestamp)\n",
    "    assert x.resolution >= timedelta(microseconds=1)\n",
    "    return local_dt.replace(microsecond=x.microsecond)"
   ]
  },
  {
   "cell_type": "markdown",
   "metadata": {},
   "source": [
    "#### NOT GETTING THE CORRECT NUMBER OF SHARES FOR SOME POSTS DUE TO A BUG IN FACEBOOK"
   ]
  },
  {
   "cell_type": "code",
   "execution_count": 54,
   "metadata": {
    "collapsed": true
   },
   "outputs": [],
   "source": [
    "#get number of shares of a post\n",
    "def num_shares(post):\n",
    "    url = 'https://graph.facebook.com/%s' % post\n",
    "    parameters = {'access_token': access}\n",
    "    r = requests.get(url, params = parameters)\n",
    "    result = json.loads(r.text)\n",
    "    try:\n",
    "        x = result['shares']['count']\n",
    "    except KeyError:\n",
    "        x = 0\n",
    "    return x"
   ]
  },
  {
   "cell_type": "code",
   "execution_count": 55,
   "metadata": {
    "collapsed": true
   },
   "outputs": [],
   "source": [
    "#get status type\n",
    "def get_status_type(post_id):\n",
    "    url = 'https://graph.facebook.com/%s' % post_id\n",
    "    parameters = {'access_token': access}\n",
    "    r = requests.get(url, params = parameters)\n",
    "    result = json.loads(r.text)\n",
    "    return result['status_type']"
   ]
  },
  {
   "cell_type": "code",
   "execution_count": 56,
   "metadata": {
    "collapsed": true
   },
   "outputs": [],
   "source": [
    "#get the type of story for a post\n",
    "def post_story(post):\n",
    "    url = 'https://graph.facebook.com/%s/' %post\n",
    "    parameters = {'access_token': access}\n",
    "    r = requests.get(url, params = parameters)\n",
    "    result = json.loads(r.text)\n",
    "    try:\n",
    "        ans = result['story']\n",
    "    except KeyError:\n",
    "        ans = '-'\n",
    "    return ans"
   ]
  },
  {
   "cell_type": "code",
   "execution_count": 57,
   "metadata": {
    "collapsed": true
   },
   "outputs": [],
   "source": [
    "#get the total number of people the Page post was served to\n",
    "def get_post_reach(post_id):\n",
    "    url = 'https://graph.facebook.com/%s/insights' % post_id\n",
    "    parameters = {'access_token': access}\n",
    "    r = requests.get(url, params = parameters)\n",
    "    result = json.loads(r.text)\n",
    "    for dic in result['data']:\n",
    "        if dic['name'] == 'post_impressions_unique':\n",
    "            return dic['values'][0]['value']"
   ]
  },
  {
   "cell_type": "code",
   "execution_count": 58,
   "metadata": {
    "collapsed": true
   },
   "outputs": [],
   "source": [
    "#get the number of impressions of the Page post\n",
    "def get_post_impressions(post_id):\n",
    "    url = 'https://graph.facebook.com/%s/insights' % post_id\n",
    "    parameters = {'access_token': access}\n",
    "    r = requests.get(url, params = parameters)\n",
    "    result = json.loads(r.text)\n",
    "    for dic in result['data']:\n",
    "        if dic['name'] == 'post_impressions':\n",
    "            return dic['values'][0]['value']"
   ]
  },
  {
   "cell_type": "code",
   "execution_count": 59,
   "metadata": {
    "collapsed": true
   },
   "outputs": [],
   "source": [
    "#get the number of people who saw the Page post in a story from a friend\n",
    "def get_post_viral_reach(post_id):\n",
    "    url = 'https://graph.facebook.com/%s/insights' % post_id\n",
    "    parameters = {'access_token': access}\n",
    "    r = requests.get(url, params = parameters)\n",
    "    result = json.loads(r.text)\n",
    "    for dic in result['data']:\n",
    "        if dic['name'] == 'post_impressions_viral_unique':\n",
    "            return dic['values'][0]['value']"
   ]
  },
  {
   "cell_type": "code",
   "execution_count": 60,
   "metadata": {
    "collapsed": true
   },
   "outputs": [],
   "source": [
    "#get the number of impressions of the Page post in a story generated by a friend\n",
    "def get_post_viral_impressions(post_id):\n",
    "    url = 'https://graph.facebook.com/%s/insights' % post_id\n",
    "    parameters = {'access_token': access}\n",
    "    r = requests.get(url, params = parameters)\n",
    "    result = json.loads(r.text)\n",
    "    for dic in result['data']:\n",
    "        if dic['name'] == 'post_impressions_viral':\n",
    "            return dic['values'][0]['value']"
   ]
  },
  {
   "cell_type": "code",
   "execution_count": 136,
   "metadata": {
    "collapsed": true
   },
   "outputs": [],
   "source": [
    "#get post message\n",
    "def get_post_message(ID):\n",
    "    url = 'https://graph.facebook.com/%s' % ID\n",
    "    parameters = {'access_token': access}\n",
    "    r = requests.get(url, params = parameters)\n",
    "    result = json.loads(r.text)\n",
    "    try:\n",
    "        x = result['message']\n",
    "    except KeyError:\n",
    "        x = '-'\n",
    "    return x"
   ]
  },
  {
   "cell_type": "code",
   "execution_count": 147,
   "metadata": {
    "collapsed": true
   },
   "outputs": [],
   "source": [
    "#determines if a Facebook post had been posted via twitter\n",
    "def via_twitter(ID):\n",
    "    url = 'https://graph.facebook.com/%s' % ID\n",
    "    parameters = {'access_token': access}\n",
    "    r = requests.get(url, params = parameters)\n",
    "    result = json.loads(r.text)\n",
    "    try:\n",
    "        if result['application']['namespace'] == 'twitter':\n",
    "            x = 'Yes'\n",
    "        else:\n",
    "            x = 'No'\n",
    "    except KeyError:\n",
    "        x = 'No'\n",
    "    return x"
   ]
  },
  {
   "cell_type": "code",
   "execution_count": 61,
   "metadata": {
    "collapsed": true
   },
   "outputs": [],
   "source": [
    "df2 = pd.DataFrame()"
   ]
  },
  {
   "cell_type": "code",
   "execution_count": 66,
   "metadata": {
    "collapsed": false
   },
   "outputs": [],
   "source": [
    "df2['Post ID'] = post_ids\n",
    "df2['Link to Post'] = 'https://facebook.com/'+df2['Post ID']\n",
    "df2['Total Number of Post Likes'] = df2['Post ID'].apply(get_post_likes)"
   ]
  },
  {
   "cell_type": "code",
   "execution_count": 67,
   "metadata": {
    "collapsed": false
   },
   "outputs": [],
   "source": [
    "df2['Number of Likes by Followers'] = df2['Post ID'].apply(get_common_likes_safecity)"
   ]
  },
  {
   "cell_type": "code",
   "execution_count": 70,
   "metadata": {
    "collapsed": true
   },
   "outputs": [],
   "source": [
    "df2['Number of Likes by Non-Followers'] = df2['Total Number of Post Likes'] - df2['Number of Likes by Followers']"
   ]
  },
  {
   "cell_type": "code",
   "execution_count": 71,
   "metadata": {
    "collapsed": false
   },
   "outputs": [],
   "source": [
    "dt = []\n",
    "for ID in df2['Post ID']:\n",
    "    dt.append(facebook_to_local(get_post_date(ID)))"
   ]
  },
  {
   "cell_type": "code",
   "execution_count": 72,
   "metadata": {
    "collapsed": true
   },
   "outputs": [],
   "source": [
    "dates = []\n",
    "times = []\n",
    "for i in dt:\n",
    "    dates.append(i.date())\n",
    "    times.append(str(i.time())[:5])"
   ]
  },
  {
   "cell_type": "code",
   "execution_count": 73,
   "metadata": {
    "collapsed": true
   },
   "outputs": [],
   "source": [
    "df2['Date Created'] = dates\n",
    "df2['Time Created'] = times"
   ]
  },
  {
   "cell_type": "markdown",
   "metadata": {},
   "source": [
    "#### NOT GETTING THE CORRECT NUMBER OF SHARES FOR SOME POSTS"
   ]
  },
  {
   "cell_type": "code",
   "execution_count": 106,
   "metadata": {
    "collapsed": false
   },
   "outputs": [],
   "source": [
    "df2['Number of Shares'] = df2['Post ID'].apply(num_shares)  #not accurate"
   ]
  },
  {
   "cell_type": "code",
   "execution_count": 76,
   "metadata": {
    "collapsed": true
   },
   "outputs": [],
   "source": [
    "df2['Post Type'] = df2['Post ID'].apply(get_status_type)"
   ]
  },
  {
   "cell_type": "code",
   "execution_count": 80,
   "metadata": {
    "collapsed": false
   },
   "outputs": [],
   "source": [
    "df2['Post Story'] = df2['Post ID'].apply(post_story)"
   ]
  },
  {
   "cell_type": "code",
   "execution_count": 81,
   "metadata": {
    "collapsed": true
   },
   "outputs": [],
   "source": [
    "df2['Post Reach'] = df2['Post ID'].apply(get_post_reach)"
   ]
  },
  {
   "cell_type": "code",
   "execution_count": 85,
   "metadata": {
    "collapsed": true
   },
   "outputs": [],
   "source": [
    "df2['Post Impressions'] = df2['Post ID'].apply(get_post_impressions)"
   ]
  },
  {
   "cell_type": "code",
   "execution_count": 86,
   "metadata": {
    "collapsed": false
   },
   "outputs": [],
   "source": [
    "df2['Post Viral Reach'] = df2['Post ID'].apply(get_post_viral_reach)"
   ]
  },
  {
   "cell_type": "code",
   "execution_count": 87,
   "metadata": {
    "collapsed": true
   },
   "outputs": [],
   "source": [
    "df2['Post Viral Impressions'] = df2['Post ID'].apply(get_post_viral_impressions)"
   ]
  },
  {
   "cell_type": "code",
   "execution_count": 140,
   "metadata": {
    "collapsed": true
   },
   "outputs": [],
   "source": [
    "df2['Post Message'] = df2['Post ID'].apply(get_post_message)"
   ]
  },
  {
   "cell_type": "code",
   "execution_count": 155,
   "metadata": {
    "collapsed": true
   },
   "outputs": [
    {
     "name": "stderr",
     "output_type": "stream",
     "text": [
      "/home/ketan/anaconda2/lib/python2.7/site-packages/ipykernel/__main__.py:1: SettingWithCopyWarning: \n",
      "A value is trying to be set on a copy of a slice from a DataFrame.\n",
      "Try using .loc[row_indexer,col_indexer] = value instead\n",
      "\n",
      "See the caveats in the documentation: http://pandas.pydata.org/pandas-docs/stable/indexing.html#indexing-view-versus-copy\n",
      "  if __name__ == '__main__':\n"
     ]
    }
   ],
   "source": [
    "df2['Posted via Twitter'] = df2['Post ID'].apply(via_twitter)"
   ]
  },
  {
   "cell_type": "code",
   "execution_count": 89,
   "metadata": {
    "collapsed": false
   },
   "outputs": [
    {
     "data": {
      "text/plain": [
       "defaultdict(int,\n",
       "            {'added_photos': 36,\n",
       "             'added_video': 1,\n",
       "             'created_event': 4,\n",
       "             'mobile_status_update': 259,\n",
       "             'shared_story': 700})"
      ]
     },
     "execution_count": 89,
     "metadata": {},
     "output_type": "execute_result"
    }
   ],
   "source": [
    "post_type_dic = defaultdict(int)\n",
    "for item in df2['Post Type']:\n",
    "    post_type_dic[str(item)] += 1\n",
    "post_type_dic"
   ]
  },
  {
   "cell_type": "code",
   "execution_count": 108,
   "metadata": {
    "collapsed": false
   },
   "outputs": [
    {
     "data": {
      "text/plain": [
       "78.10000000000001"
      ]
     },
     "execution_count": 108,
     "metadata": {},
     "output_type": "execute_result"
    }
   ],
   "source": [
    "count = 0\n",
    "for n, m in zip(df2['Number of Likes by Followers'], df2['Number of Likes by Non-Followers']):\n",
    "    if m>=n:\n",
    "        count += 1\n",
    "count/1000. * 100"
   ]
  },
  {
   "cell_type": "code",
   "execution_count": 157,
   "metadata": {
    "collapsed": true
   },
   "outputs": [],
   "source": [
    "df2.to_csv('/home/ketan/Desktop/Based on Posts.csv', encoding = 'utf-8')"
   ]
  },
  {
   "cell_type": "code",
   "execution_count": 95,
   "metadata": {
    "collapsed": true
   },
   "outputs": [],
   "source": [
    "DF = pd.read_csv('/home/ketan/Desktop/1000 Posts.csv')"
   ]
  },
  {
   "cell_type": "code",
   "execution_count": 132,
   "metadata": {
    "collapsed": true
   },
   "outputs": [
    {
     "name": "stdout",
     "output_type": "stream",
     "text": [
      "127466294080089_538742106285837\n",
      "127466294080089_530119800481401\n",
      "127466294080089_529777447182303\n",
      "127466294080089_529358333890881\n",
      "127466294080089_529357843890930\n",
      "127466294080089_529317467228301\n",
      "127466294080089_529317430561638\n",
      "127466294080089_528282433998471\n",
      "127466294080089_528170480676333\n",
      "127466294080089_527986507361397\n",
      "127466294080089_527972060696175\n",
      "127466294080089_527549700738411\n",
      "127466294080089_527543524072362\n",
      "127466294080089_527501900743191\n",
      "127466294080089_527501260743255\n",
      "127466294080089_527243597435688\n",
      "127466294080089_527204500772931\n",
      "127466294080089_526974180795963\n",
      "127466294080089_526974040795977\n",
      "127466294080089_525508244275890\n",
      "127466294080089_524718717688176\n",
      "127466294080089_524505651042816\n",
      "127466294080089_524504594376255\n",
      "127466294080089_524440804382634\n",
      "127466294080089_524438701049511\n",
      "127466294080089_524438511049530\n",
      "127466294080089_524426304384084\n",
      "127466294080089_524423394384375\n",
      "127466294080089_524150901078291\n",
      "127466294080089_524150121078369\n",
      "127466294080089_524147327745315\n",
      "127466294080089_524146974412017\n",
      "127466294080089_524145027745545\n",
      "127466294080089_524144701078911\n",
      "127466294080089_524142737745774\n",
      "127466294080089_524142107745837\n",
      "127466294080089_524141984412516\n",
      "127466294080089_524141741079207\n",
      "127466294080089_524141554412559\n",
      "127466294080089_524141054412609\n",
      "127466294080089_524140071079374\n",
      "127466294080089_524139934412721\n",
      "127466294080089_524139537746094\n",
      "127466294080089_524138797746168\n",
      "127466294080089_524135947746453\n",
      "127466294080089_524134711079910\n",
      "127466294080089_524133177746730\n",
      "127466294080089_524131581080223\n",
      "127466294080089_524124487747599\n",
      "127466294080089_524122767747771\n",
      "127466294080089_524077291085652\n",
      "127466294080089_524077191085662\n",
      "127466294080089_524074797752568\n",
      "127466294080089_524072657752782\n",
      "127466294080089_524047051088676\n",
      "127466294080089_523823954444319\n",
      "127466294080089_523819784444736\n",
      "127466294080089_523817551111626\n",
      "127466294080089_521311258028922\n",
      "127466294080089_520922371401144\n",
      "127466294080089_520425574784157\n",
      "127466294080089_520403414786373\n",
      "127466294080089_520402794786435\n",
      "127466294080089_520398941453487\n",
      "127466294080089_520398658120182\n",
      "127466294080089_520351498124898\n",
      "127466294080089_520219858138062\n",
      "127466294080089_520217804804934\n",
      "127466294080089_520098201483561\n",
      "127466294080089_520072321486149\n",
      "127466294080089_520071531486228\n",
      "127466294080089_520070688152979\n",
      "127466294080089_520029774823737\n",
      "127466294080089_520026411490740\n",
      "127466294080089_520021968157851\n",
      "127466294080089_519974158162632\n",
      "127466294080089_519840634842651\n",
      "127466294080089_519829001510481\n",
      "127466294080089_519827491510632\n",
      "127466294080089_519769974849717\n",
      "127466294080089_519739914852723\n",
      "127466294080089_519717371521644\n",
      "127466294080089_519716431521738\n",
      "127466294080089_519710924855622\n",
      "127466294080089_519643004862414\n",
      "127466294080089_519642341529147\n",
      "127466294080089_519337144893000\n",
      "127466294080089_519335658226482\n",
      "127466294080089_519000688259979\n",
      "127466294080089_518994044927310\n",
      "127466294080089_518993248260723\n",
      "127466294080089_518803574946357\n",
      "127466294080089_518771611616220\n",
      "127466294080089_518557631637618\n",
      "127466294080089_518537621639619\n",
      "127466294080089_518518588308189\n",
      "127466294080089_518516104975104\n",
      "127466294080089_518511481642233\n",
      "127466294080089_518482594978455\n",
      "127466294080089_518469244979790\n",
      "127466294080089_518462491647132\n",
      "127466294080089_518455608314487\n",
      "127466294080089_518454731647908\n",
      "127466294080089_518454624981252\n",
      "127466294080089_518454284981286\n",
      "127466294080089_518452538314794\n",
      "127466294080089_518435964983118\n",
      "127466294080089_518435811649800\n",
      "127466294080089_518426581650723\n",
      "127466294080089_518423701651011\n",
      "127466294080089_518047591688622\n",
      "127466294080089_518046915022023\n",
      "127466294080089_518046348355413\n",
      "127466294080089_518045201688861\n",
      "127466294080089_518044225022292\n",
      "127466294080089_518043155022399\n",
      "127466294080089_518041735022541\n",
      "127466294080089_518041331689248\n",
      "127466294080089_518041245022590\n",
      "127466294080089_518040441689337\n",
      "127466294080089_518040255022689\n",
      "127466294080089_518037801689601\n",
      "127466294080089_518037315022983\n",
      "127466294080089_518036771689704\n",
      "127466294080089_518036491689732\n",
      "127466294080089_518036195023095\n",
      "127466294080089_518036068356441\n",
      "127466294080089_518035761689805\n",
      "127466294080089_518012355025479\n",
      "127466294080089_517997531693628\n",
      "127466294080089_517903908369657\n",
      "127466294080089_517874425039272\n",
      "127466294080089_517874415039273\n",
      "127466294080089_517838215042893\n",
      "127466294080089_517785988381449\n",
      "127466294080089_517775318382516\n",
      "127466294080089_517474848412563\n",
      "127466294080089_517474298412618\n",
      "127466294080089_517470578412990\n",
      "127466294080089_517456241747757\n",
      "127466294080089_517455931747788\n",
      "127466294080089_517455911747790\n",
      "127466294080089_517342778425770\n",
      "127466294080089_516916871801694\n",
      "127466294080089_516915501801831\n",
      "127466294080089_516913948468653\n",
      "127466294080089_516865348473513\n",
      "127466294080089_516864631806918\n",
      "127466294080089_516562298503818\n",
      "127466294080089_516398511853530\n",
      "127466294080089_516383588521689\n",
      "127466294080089_516296908530357\n",
      "127466294080089_516256998534348\n",
      "127466294080089_516138798546168\n",
      "127466294080089_516138631879518\n",
      "127466294080089_516119068548141\n",
      "127466294080089_516103345216380\n",
      "127466294080089_516103155216399\n",
      "127466294080089_516102968549751\n",
      "127466294080089_516102768549771\n",
      "127466294080089_516102501883131\n",
      "127466294080089_516102111883170\n",
      "127466294080089_516101815216533\n",
      "127466294080089_516056531887728\n",
      "127466294080089_516056391887742\n",
      "127466294080089_515960101897371\n",
      "127466294080089_515939015232813\n",
      "127466294080089_515938775232837\n",
      "127466294080089_515938421899539\n",
      "127466294080089_515937925232922\n",
      "127466294080089_515937878566260\n",
      "127466294080089_515937678566280\n",
      "127466294080089_515937538566294\n",
      "127466294080089_515937368566311\n",
      "127466294080089_515937298566318\n",
      "127466294080089_515936968566351\n",
      "127466294080089_515936711899710\n",
      "127466294080089_515936455233069\n",
      "127466294080089_515936368566411\n",
      "127466294080089_515936095233105\n",
      "127466294080089_515936011899780\n",
      "127466294080089_515935858566462\n",
      "127466294080089_515935525233162\n",
      "127466294080089_515935215233193\n",
      "127466294080089_515935128566535\n",
      "127466294080089_515934685233246\n",
      "127466294080089_515934595233255\n",
      "127466294080089_515934411899940\n",
      "127466294080089_515934321899949\n",
      "127466294080089_515934195233295\n",
      "127466294080089_515933895233325\n",
      "127466294080089_515932991900082\n",
      "127466294080089_515931998566848\n",
      "127466294080089_515930925233622\n",
      "127466294080089_515930561900325\n",
      "127466294080089_515930545233660\n",
      "127466294080089_515787485247966\n",
      "127466294080089_515782088581839\n",
      "127466294080089_515781778581870\n",
      "127466294080089_515780191915362\n",
      "127466294080089_515738621919519\n",
      "127466294080089_515716431921738\n",
      "127466294080089_515716305255084\n",
      "127466294080089_515693008590747\n",
      "127466294080089_515692845257430\n",
      "127466294080089_515680255258689\n",
      "127466294080089_515672348592813\n",
      "127466294080089_515107238649324\n",
      "127466294080089_515105431982838\n",
      "127466294080089_515104995316215\n",
      "127466294080089_515100558649992\n",
      "127466294080089_515041278655920\n",
      "127466294080089_515041115322603\n",
      "127466294080089_515040728655975\n",
      "127466294080089_515039648656083\n",
      "127466294080089_515039488656099\n",
      "127466294080089_515038575322857\n",
      "127466294080089_515038408656207\n",
      "127466294080089_515028511990530\n",
      "127466294080089_515028428657205\n",
      "127466294080089_515028408657207\n",
      "127466294080089_514994078660640\n",
      "127466294080089_514987551994626\n",
      "127466294080089_514987508661297\n",
      "127466294080089_514987291994652\n",
      "127466294080089_514987058661342\n",
      "127466294080089_514980291995352\n",
      "127466294080089_514979655328749\n",
      "127466294080089_514979185328796\n",
      "127466294080089_514978431995538\n",
      "127466294080089_514977475328967\n",
      "127466294080089_514977421995639\n",
      "127466294080089_514830108677037\n",
      "127466294080089_514830015343713\n",
      "127466294080089_514829825343732\n",
      "127466294080089_514829732010408\n",
      "127466294080089_514829508677097\n",
      "127466294080089_514829352010446\n",
      "127466294080089_514829218677126\n",
      "127466294080089_514829078677140\n",
      "127466294080089_514828872010494\n",
      "127466294080089_514828678677180\n",
      "127466294080089_514827942010587\n",
      "127466294080089_514827708677277\n",
      "127466294080089_514827512010630\n",
      "127466294080089_514827425343972\n",
      "127466294080089_514826912010690\n",
      "127466294080089_514826715344043\n",
      "127466294080089_514826532010728\n",
      "127466294080089_514825698677478\n",
      "127466294080089_514825225344192\n",
      "127466294080089_514824458677602\n",
      "127466294080089_514824228677625\n",
      "127466294080089_514824038677644\n",
      "127466294080089_514823882010993\n",
      "127466294080089_514823692011012\n",
      "127466294080089_514823462011035\n",
      "127466294080089_514823328677715\n",
      "127466294080089_514822782011103\n",
      "127466294080089_514822368677811\n",
      "127466294080089_514822142011167\n",
      "127466294080089_514821618677886\n",
      "127466294080089_514821465344568\n",
      "127466294080089_514821085344606\n",
      "127466294080089_514820972011284\n",
      "127466294080089_514820812011300\n",
      "127466294080089_514820552011326\n",
      "127466294080089_514820372011344\n",
      "127466294080089_514820038678044\n",
      "127466294080089_514819882011393\n",
      "127466294080089_514819722011409\n",
      "127466294080089_514819022011479\n",
      "127466294080089_514818865344828\n",
      "127466294080089_514818762011505\n",
      "127466294080089_514818418678206\n",
      "127466294080089_514818222011559\n",
      "127466294080089_514748018685246\n",
      "127466294080089_514694262023955\n",
      "127466294080089_514529972040384\n",
      "127466294080089_514529582040423\n",
      "127466294080089_514529138707134\n",
      "127466294080089_514525275374187\n",
      "127466294080089_514512368708811\n",
      "127466294080089_514469312046450\n",
      "127466294080089_514439052049476\n",
      "127466294080089_514438978716150\n",
      "127466294080089_514438868716161\n",
      "127466294080089_514437928716255\n",
      "127466294080089_514416638718384\n",
      "127466294080089_514416322051749\n",
      "127466294080089_514413048718743\n",
      "127466294080089_514365428723505\n",
      "127466294080089_514254895401225\n",
      "127466294080089_514228118737236\n",
      "127466294080089_514225522070829\n",
      "127466294080089_514211525405562\n",
      "127466294080089_514210588738989\n",
      "127466294080089_514191178740930\n",
      "127466294080089_514190112074370\n",
      "127466294080089_514159002077481\n",
      "127466294080089_514158622077519\n",
      "127466294080089_514152712078110\n",
      "127466294080089_514137782079603\n",
      "127466294080089_514107728749275\n",
      "127466294080089_514066832086698\n",
      "127466294080089_514064892086892\n",
      "127466294080089_514064528753595\n",
      "127466294080089_513960312097350\n",
      "127466294080089_513960072097374\n",
      "127466294080089_513814185445296\n",
      "127466294080089_513813335445381\n",
      "127466294080089_513813232112058\n",
      "127466294080089_513812048778843\n",
      "127466294080089_512937628866285\n",
      "127466294080089_512390218921026\n",
      "127466294080089_512385575588157\n",
      "127466294080089_512384648921583\n",
      "127466294080089_512101788949869\n",
      "127466294080089_512101395616575\n",
      "127466294080089_512090285617686\n",
      "127466294080089_512085348951513\n",
      "127466294080089_512063515620363\n",
      "127466294080089_512060145620700\n",
      "127466294080089_512036772289704\n",
      "127466294080089_512028222290559\n",
      "127466294080089_512025558957492\n",
      "127466294080089_512012555625459\n",
      "127466294080089_512012432292138\n",
      "127466294080089_512011892292192\n",
      "127466294080089_512010908958957\n",
      "127466294080089_512010482292333\n",
      "127466294080089_512010012292380\n",
      "127466294080089_512006862292695\n",
      "127466294080089_512006362292745\n",
      "127466294080089_512005295626185\n",
      "127466294080089_511872638972784\n",
      "127466294080089_511872365639478\n",
      "127466294080089_511569712336410\n",
      "127466294080089_511483672345014\n",
      "127466294080089_510979502395431\n",
      "127466294080089_510885412404840\n",
      "127466294080089_510730402420341\n",
      "127466294080089_510724882420893\n",
      "127466294080089_510592999100748\n",
      "127466294080089_510571689102879\n",
      "127466294080089_510467265779988\n",
      "127466294080089_510418835784831\n",
      "127466294080089_510372115789503\n",
      "127466294080089_510353492458032\n",
      "127466294080089_510327215793993\n",
      "127466294080089_510326805794034\n",
      "127466294080089_510324059127642\n",
      "127466294080089_510319179128130\n",
      "127466294080089_510034629156585\n",
      "127466294080089_510024532490928\n",
      "127466294080089_509998445826870\n",
      "127466294080089_509998292493552\n",
      "127466294080089_509507712542610\n",
      "127466294080089_509507552542626\n",
      "127466294080089_509505735876141\n",
      "127466294080089_509505389209509\n",
      "127466294080089_509491195877595\n",
      "127466294080089_509177845908930\n",
      "127466294080089_509177459242302\n",
      "127466294080089_509177402575641\n",
      "127466294080089_509013522592029\n",
      "127466294080089_509010409259007\n",
      "127466294080089_509007232592658\n",
      "127466294080089_509005009259547\n",
      "127466294080089_509003002593081\n",
      "127466294080089_508998215926893\n",
      "127466294080089_508913509268697\n",
      "127466294080089_508913245935390\n",
      "127466294080089_508912409268807\n",
      "127466294080089_508912239268824\n",
      "127466294080089_508912122602169\n",
      "127466294080089_508889732604408\n",
      "127466294080089_508868019273246\n",
      "127466294080089_508780425948672\n",
      "127466294080089_508780312615350\n",
      "127466294080089_508727259287322\n",
      "127466294080089_508720055954709\n",
      "127466294080089_508712822622099\n",
      "127466294080089_508706589289389\n",
      "127466294080089_508701539289894\n",
      "127466294080089_508641675962547\n",
      "127466294080089_508641149295933\n",
      "127466294080089_508618895964825\n",
      "127466294080089_508618875964827\n",
      "127466294080089_508614549298593\n",
      "127466294080089_508607599299288\n",
      "127466294080089_508447312648650\n",
      "127466294080089_508447145982000\n",
      "127466294080089_508414925985222\n",
      "127466294080089_508409679319080\n",
      "127466294080089_508324095994305\n",
      "127466294080089_508310012662380\n",
      "127466294080089_508122359347812\n",
      "127466294080089_508120416014673\n",
      "127466294080089_508111116015603\n",
      "127466294080089_508075102685871\n",
      "127466294080089_508066902686691\n",
      "127466294080089_508031439356904\n",
      "127466294080089_508025419357506\n",
      "127466294080089_508019929358055\n",
      "127466294080089_507914702701911\n",
      "127466294080089_507913936035321\n",
      "127466294080089_507885829371465\n",
      "127466294080089_507885696038145\n",
      "127466294080089_507885136038201\n",
      "127466294080089_507884929371555\n",
      "127466294080089_507884666038248\n",
      "127466294080089_507884316038283\n",
      "127466294080089_507883826038332\n",
      "127466294080089_507882019371846\n",
      "127466294080089_507881439371904\n",
      "127466294080089_507881112705270\n",
      "127466294080089_507880919371956\n",
      "127466294080089_507880566038658\n",
      "127466294080089_507880486038666\n",
      "127466294080089_507880349372013\n",
      "127466294080089_507878896038825\n",
      "127466294080089_507877582705623\n",
      "127466294080089_507876866039028\n",
      "127466294080089_507876106039104\n",
      "127466294080089_507875929372455\n",
      "127466294080089_507875769372471\n",
      "127466294080089_507875509372497\n",
      "127466294080089_507874502705931\n",
      "127466294080089_507874432705938\n",
      "127466294080089_507873869372661\n",
      "127466294080089_507873416039373\n",
      "127466294080089_507873386039376\n",
      "127466294080089_507873349372713\n",
      "127466294080089_507872406039474\n",
      "127466294080089_507872132706168\n",
      "127466294080089_507871906039524\n",
      "127466294080089_507871729372875\n",
      "127466294080089_507871569372891\n",
      "127466294080089_507870669372981\n",
      "127466294080089_507870066039708\n",
      "127466294080089_507870026039712\n",
      "127466294080089_507869822706399\n",
      "127466294080089_507869686039746\n",
      "127466294080089_507869556039759\n",
      "127466294080089_507866239373424\n",
      "127466294080089_507865819373466\n",
      "127466294080089_507864982706883\n",
      "127466294080089_507864759373572\n",
      "127466294080089_507864396040275\n",
      "127466294080089_507863066040408\n",
      "127466294080089_507862849373763\n",
      "127466294080089_507858666040848\n",
      "127466294080089_507858492707532\n",
      "127466294080089_507858082707573\n",
      "127466294080089_507858019374246\n",
      "127466294080089_507857842707597\n",
      "127466294080089_507781189381929\n",
      "127466294080089_507661409393907\n",
      "127466294080089_507659462727435\n",
      "127466294080089_507658649394183\n",
      "127466294080089_507654959394552\n",
      "127466294080089_507579376068777\n",
      "127466294080089_507486549411393\n",
      "127466294080089_507480629411985\n",
      "127466294080089_507471789412869\n",
      "127466294080089_506907219469326\n",
      "127466294080089_506906692802712\n",
      "127466294080089_506906612802720\n",
      "127466294080089_506906329469415\n",
      "127466294080089_506466652846716\n",
      "127466294080089_506464982846883\n",
      "127466294080089_506464456180269\n",
      "127466294080089_506461386180576\n",
      "127466294080089_506113166215398\n",
      "127466294080089_506111666215548\n",
      "127466294080089_506105569549491\n",
      "127466294080089_506103409549707\n",
      "127466294080089_506103279549720\n",
      "127466294080089_506101172883264\n",
      "127466294080089_506100159550032\n",
      "127466294080089_506100082883373\n",
      "127466294080089_506099919550056\n",
      "127466294080089_506099682883413\n",
      "127466294080089_505929239567124\n",
      "127466294080089_505929056233809\n",
      "127466294080089_505509802942401\n",
      "127466294080089_505332499626798\n",
      "127466294080089_505326429627405\n",
      "127466294080089_505322519627796\n",
      "127466294080089_505319909628057\n",
      "127466294080089_505314432961938\n",
      "127466294080089_505306569629391\n",
      "127466294080089_505264582966923\n",
      "127466294080089_505264219633626\n",
      "127466294080089_505263989633649\n",
      "127466294080089_505263849633663\n",
      "127466294080089_505263609633687\n",
      "127466294080089_505261606300554\n",
      "127466294080089_505261396300575\n",
      "127466294080089_505255789634469\n",
      "127466294080089_504941506332564\n",
      "127466294080089_504451316381583\n",
      "127466294080089_504381793055202\n",
      "127466294080089_504265659733482\n",
      "127466294080089_504249486401766\n",
      "127466294080089_504015796425135\n",
      "127466294080089_504015339758514\n",
      "127466294080089_504015219758526\n",
      "127466294080089_503987423094639\n",
      "127466294080089_503981816428533\n",
      "127466294080089_503981563095225\n",
      "127466294080089_503981439761904\n",
      "127466294080089_503863539773694\n",
      "127466294080089_503863213107060\n",
      "127466294080089_503615646465150\n",
      "127466294080089_503615099798538\n",
      "127466294080089_503614619798586\n",
      "127466294080089_503315179828530\n",
      "127466294080089_503307949829253\n",
      "127466294080089_502994689860579\n",
      "127466294080089_502891099870938\n",
      "127466294080089_502645119895536\n",
      "127466294080089_502557176570997\n",
      "127466294080089_502457156580999\n",
      "127466294080089_502128906613824\n",
      "127466294080089_502108429949205\n",
      "127466294080089_501919976634717\n",
      "127466294080089_501907383302643\n",
      "127466294080089_501903713303010\n",
      "127466294080089_501891089970939\n",
      "127466294080089_501821696644545\n",
      "127466294080089_501821156644599\n",
      "127466294080089_501622936664421\n",
      "127466294080089_501620113331370\n",
      "127466294080089_501619929998055\n",
      "127466294080089_501619346664780\n",
      "127466294080089_501619243331457\n",
      "127466294080089_501587520001296\n",
      "127466294080089_501587260001322\n",
      "127466294080089_501314710028577\n",
      "127466294080089_501272623366119\n",
      "127466294080089_501019103391471\n",
      "127466294080089_500836046743110\n",
      "127466294080089_500835466743168\n",
      "127466294080089_500059226820792\n",
      "127466294080089_500011790158869\n",
      "127466294080089_500011573492224\n",
      "127466294080089_499977563495625\n",
      "127466294080089_499861616840553\n",
      "127466294080089_499861413507240\n",
      "127466294080089_499806023512779\n",
      "127466294080089_499804883512893\n",
      "127466294080089_499801600179888\n",
      "127466294080089_499799946846720\n",
      "127466294080089_499796500180398\n",
      "127466294080089_499795206847194\n",
      "127466294080089_499791153514266\n",
      "127466294080089_499789853514396\n",
      "127466294080089_499789013514480\n",
      "127466294080089_499745500185498\n",
      "127466294080089_499744203518961\n",
      "127466294080089_499743963518985\n",
      "127466294080089_499743126852402\n",
      "127466294080089_499743096852405\n",
      "127466294080089_499742950185753\n",
      "127466294080089_499742070185841\n",
      "127466294080089_499594310200617\n",
      "127466294080089_499495386877176\n",
      "127466294080089_499495163543865\n",
      "127466294080089_499494913543890\n",
      "127466294080089_499494830210565\n",
      "127466294080089_499493990210649\n",
      "127466294080089_499493946877320\n",
      "127466294080089_499493860210662\n",
      "127466294080089_499493610210687\n",
      "127466294080089_499493556877359\n",
      "127466294080089_499493360210712\n",
      "127466294080089_499493096877405\n",
      "127466294080089_499492963544085\n",
      "127466294080089_499492736877441\n",
      "127466294080089_499492463544135\n",
      "127466294080089_499492410210807\n",
      "127466294080089_499491736877541\n",
      "127466294080089_499491583544223\n",
      "127466294080089_499491433544238\n",
      "127466294080089_499491240210924\n",
      "127466294080089_499491016877613\n",
      "127466294080089_499490913544290\n",
      "127466294080089_499490600210988\n",
      "127466294080089_499490310211017\n",
      "127466294080089_499490153544366\n",
      "127466294080089_499489660211082\n",
      "127466294080089_499489580211090\n",
      "127466294080089_499489273544454\n",
      "127466294080089_499489080211140\n",
      "127466294080089_499488943544487\n",
      "127466294080089_499488280211220\n",
      "127466294080089_499488086877906\n",
      "127466294080089_499487990211249\n",
      "127466294080089_499487703544611\n",
      "127466294080089_499486943544687\n",
      "127466294080089_499486750211373\n",
      "127466294080089_499486636878051\n",
      "127466294080089_499486353544746\n",
      "127466294080089_499486180211430\n",
      "127466294080089_499486083544773\n",
      "127466294080089_499331420226906\n",
      "127466294080089_499329566893758\n",
      "127466294080089_499329086893806\n",
      "127466294080089_499328170227231\n",
      "127466294080089_499316416895073\n",
      "127466294080089_499316243561757\n",
      "127466294080089_499315216895193\n",
      "127466294080089_499309336895781\n",
      "127466294080089_499307516895963\n",
      "127466294080089_499307390229309\n",
      "127466294080089_499306763562705\n",
      "127466294080089_499275586899156\n",
      "127466294080089_499253750234673\n",
      "127466294080089_499253276901387\n",
      "127466294080089_499252360234812\n",
      "127466294080089_499248356901879\n",
      "127466294080089_499243110235737\n",
      "127466294080089_499242976902417\n",
      "127466294080089_499234146903300\n",
      "127466294080089_499233180236730\n",
      "127466294080089_499232460236802\n",
      "127466294080089_499231950236853\n",
      "127466294080089_499231803570201\n",
      "127466294080089_499231636903551\n",
      "127466294080089_499229853570396\n",
      "127466294080089_499225616904153\n",
      "127466294080089_499224073570974\n",
      "127466294080089_499221690237879\n",
      "127466294080089_499093923583989\n",
      "127466294080089_499093896917325\n",
      "127466294080089_499085890251459\n",
      "127466294080089_499083746918340\n",
      "127466294080089_499082966918418\n",
      "127466294080089_499078983585483\n",
      "127466294080089_499075960252452\n",
      "127466294080089_499074040252644\n",
      "127466294080089_499072993586082\n",
      "127466294080089_499068273586554\n",
      "127466294080089_499065290253519\n",
      "127466294080089_499059470254101\n",
      "127466294080089_498980946928620\n",
      "127466294080089_498978630262185\n",
      "127466294080089_498972216929493\n",
      "127466294080089_498969380263110\n",
      "127466294080089_498809773612404\n",
      "127466294080089_498803936946321\n",
      "127466294080089_498801750279873\n",
      "127466294080089_498800360280012\n",
      "127466294080089_498796220280426\n",
      "127466294080089_498793736947341\n",
      "127466294080089_498787786947936\n",
      "127466294080089_498787670281281\n",
      "127466294080089_498779103615471\n",
      "127466294080089_498775090282539\n",
      "127466294080089_498711343622247\n",
      "127466294080089_498707526955962\n",
      "127466294080089_498706130289435\n",
      "127466294080089_498578266968888\n",
      "127466294080089_498561510303897\n",
      "127466294080089_498550466971668\n",
      "127466294080089_498550303638351\n",
      "127466294080089_498550246971690\n",
      "127466294080089_498549560305092\n",
      "127466294080089_498548320305216\n",
      "127466294080089_498530223640359\n",
      "127466294080089_498524766974238\n",
      "127466294080089_498510510308997\n",
      "127466294080089_498509396975775\n",
      "127466294080089_498508923642489\n",
      "127466294080089_498495156977199\n",
      "127466294080089_498494340310614\n",
      "127466294080089_498438213649560\n",
      "127466294080089_498438070316241\n",
      "127466294080089_498435566983158\n",
      "127466294080089_498411536985561\n",
      "127466294080089_498410826985632\n",
      "127466294080089_498410496985665\n",
      "127466294080089_498308643662517\n",
      "127466294080089_498304990329549\n",
      "127466294080089_498304176996297\n",
      "127466294080089_498284710331577\n",
      "127466294080089_498282686998446\n",
      "127466294080089_498273250332723\n",
      "127466294080089_498267053666676\n",
      "127466294080089_498263297000385\n",
      "127466294080089_498262697000445\n",
      "127466294080089_498261153667266\n",
      "127466294080089_498259683667413\n",
      "127466294080089_498259400334108\n",
      "127466294080089_498258470334201\n",
      "127466294080089_498256857001029\n",
      "127466294080089_498256653667716\n",
      "127466294080089_498255167001198\n",
      "127466294080089_498253650334683\n",
      "127466294080089_498250143668367\n",
      "127466294080089_498236140336434\n",
      "127466294080089_498215410338507\n",
      "127466294080089_498212333672148\n",
      "127466294080089_498206157006099\n",
      "127466294080089_498204477006267\n",
      "127466294080089_498193650340683\n",
      "127466294080089_498193500340698\n",
      "127466294080089_498192983674083\n",
      "127466294080089_498191477007567\n",
      "127466294080089_498190000341048\n",
      "127466294080089_498189827007732\n",
      "127466294080089_498189747007740\n",
      "127466294080089_498189640341084\n",
      "127466294080089_498189403674441\n",
      "127466294080089_498189207007794\n",
      "127466294080089_498188543674527\n",
      "127466294080089_498187987007916\n",
      "127466294080089_498181533675228\n",
      "127466294080089_498172783676103\n",
      "127466294080089_498170653676316\n",
      "127466294080089_498167560343292\n",
      "127466294080089_498167427009972\n",
      "127466294080089_498167303676651\n"
     ]
    }
   ],
   "source": [
    "twitter_count = 0\n",
    "for ID in df2['Post ID']:\n",
    "    index = df2['Post ID'].tolist().index(ID)\n",
    "    url = 'https://graph.facebook.com/%s' % ID\n",
    "    parameters = {'access_token': access}\n",
    "    r = requests.get(url, params = parameters)\n",
    "    result = json.loads(r.text)\n",
    "    try:\n",
    "        x = result['application']['namespace'] \n",
    "    except KeyError:\n",
    "        x = 'no'\n",
    "    if x == 'twitter':\n",
    "        print df2['Post ID'].tolist()[index]"
   ]
  }
 ],
 "metadata": {
  "kernelspec": {
   "display_name": "Python 2",
   "language": "python",
   "name": "python2"
  },
  "language_info": {
   "codemirror_mode": {
    "name": "ipython",
    "version": 2
   },
   "file_extension": ".py",
   "mimetype": "text/x-python",
   "name": "python",
   "nbconvert_exporter": "python",
   "pygments_lexer": "ipython2",
   "version": "2.7.11"
  }
 },
 "nbformat": 4,
 "nbformat_minor": 0
}
